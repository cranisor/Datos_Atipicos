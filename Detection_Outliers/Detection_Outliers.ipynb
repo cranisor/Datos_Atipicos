{
 "cells": [
  {
   "cell_type": "code",
   "execution_count": null,
   "id": "c8e6d08d",
   "metadata": {},
   "outputs": [],
   "source": []
  },
  {
   "cell_type": "markdown",
   "id": "021d6ec2",
   "metadata": {},
   "source": [
    "<h1><center>Datos Atípicos</center></h1>\n",
    "<h3><center>Yerimi Gamboa Caballero (2161953)</center></h3>\n",
    "<h4><center>Universidad Industrial de Santander</center></h4>"
   ]
  },
  {
   "cell_type": "markdown",
   "id": "e5afab1a",
   "metadata": {},
   "source": [
    "Los datos atípicos, son mediciones que difieren significativamente del patrón general de los datos que pueden ser consecuencia de errores en la medición y la variabilidad intrínseca o aleatoria. Se sabe que tienen un impacto directo en los análisis estadísticos posteriores que se realicen, de no ser detectados y manejados adecuadamente."
   ]
  },
  {
   "cell_type": "markdown",
   "id": "666d49e8",
   "metadata": {},
   "source": [
    "## Detección de datos atípicos usando Pyod."
   ]
  },
  {
   "cell_type": "markdown",
   "id": "e5334bba",
   "metadata": {},
   "source": [
    "#### Algoritmos seleccionados de la librería Pyod\n",
    "\n",
    "La elección de estos algoritmos se basa en la presencia de ciertos parámetros que, junto al atributo `decision_scores_`, permiten establecer un criterio para la toma de decisiones. En particular, se buscó una similitud con el concepto de **\"criterio de inercia\"**. La inercia se refiere a la propiedad de resistencia al cambio o falta de variaciones significativas en el comportamiento de un valor en relación con su contexto histórico. Específicamente, en el contexto de la detección de valores periféricos o atípicos, la **inercia** se utiliza para describir la tendencia de un valor atípico a mantener una constancia relativa frente a circunstancias cambiantes o en comparación con los valores más típicos en el conjunto de datos. Esta característica puede sugerir que un valor es auténticamente atípico y merece una atención especial en el análisis, ya que su comportamiento difiere significativamente de lo que se considera normal o esperado en ese contexto. \n",
    "\n",
    "La matriz de puntuaciones de decisión, denominada `decision_scores_`, describe el grado de atipicidad de un dato en el conjunto de entrenamiento. Una característica clave es que valores más altos en estas puntuaciones indican mayor anormalidad. Esto significa que los datos con puntuaciones más altas tienden a ser considerados como valores atípicos, ya que se desvían significativamente del comportamiento típico del conjunto de datos. En el contexto de esta matriz de puntuaciones de decisión, los algoritmos seleccionados buscan identificar y etiquetar los valores que presentan una puntuación alta, lo que sugiere una mayor probabilidad de ser atípicos. A continuación, se proporciona una descripción más detallada de los algoritmos seleccionados y cómo interactúan con los parámetros de entrada:\n",
    "\n",
    "- **Algoritmos con parametro de entrada n_neighbors**\n",
    "\n",
    "    Estos algoritmos utilizan el número de vecinos n_neighbors como un parámetro para realizar consultas de vecinos más cercanos. Los vecinos más cercanos son aquellos puntos de datos que están más próximos en función de alguna medida de distancia. Estos algoritmos evalúan cómo los puntos se relacionan con sus vecinos cercanos para determinar si son atípicos o no. Cada algoritmo se basa en un enfoque particular para medir esta relación:\n",
    "    <br>\n",
    "    \n",
    "    - _k-Nearest Neighbors Detector (kNN)_: Detecta atipicidad en función de la distancia a los k vecinos más cercanos.\n",
    "    \n",
    "    - _Factor atípico local (LOF)_: Mide la desviación de densidad de un punto en comparación con sus vecinos, detectando densidades significativamente diferentes.\n",
    "    \n",
    "    - _Connectivity-Based Outlier Factor (COF) Algorithm_: \n",
    "\n",
    "- **Algoritmos con parametro de entrada n_clusters**\n",
    "\n",
    "    Estos algoritmos crean grupos y centroides en función del número n_clusters. Los valores atípicos se identifican mediante la desviación de la densidad de un punto respecto a su grupo de pertenencia:\n",
    "    <br>\n",
    "\n",
    "    - _Clustering Based Local Outlier Factor (CBLOF)_: Evalúa atipicidad basándose en la diferencia de densidad de un punto respecto a su grupo.\n",
    "    \n",
    "- **Algoritmos con parametro de entrada n_estimators**\n",
    "\n",
    "     Estos algoritmos generan grupos y centroides según el número n_estimators especificado:\n",
    "     <br>\n",
    "\n",
    "    - _IsolationForest Outlier Detector (IForest)_: Detecta valores atípicos mediante la construcción de árboles de aislamiento.\n",
    "    - _Isolation-based anomaly detection using nearest-neighbor ensembles (INNE)_: Detecta valores atípicos basándose en el aislamiento y conjuntos de vecinos más cercanos.\n"
   ]
  },
  {
   "cell_type": "markdown",
   "id": "508ccc0f",
   "metadata": {},
   "source": [
    "### Procesamiento de datos\n",
    "\n",
    "- Carga de conjuntos de datos.\n",
    "- Validación de datos: Asegúrate de que los datos estén completos y coherentes.\n",
    "- Normalización."
   ]
  },
  {
   "cell_type": "code",
   "execution_count": 1,
   "id": "145888fe",
   "metadata": {},
   "outputs": [],
   "source": [
    "# Se cargan las librerias a usar.\n",
    "import pandas as pd\n",
    "import numpy as np\n",
    "import matplotlib.pyplot as plt"
   ]
  },
  {
   "cell_type": "code",
   "execution_count": 2,
   "id": "b4ecc75b",
   "metadata": {},
   "outputs": [],
   "source": [
    "# Carga de datos\n",
    "data = pd.read_csv('data_las_ferias_clean.csv', delimiter = ',')\n",
    "data['ts'] = pd.to_datetime(data['ts'], format='%d-%m-%Y %H:%M', utc=False)\n",
    "data.set_index('ts', inplace=True)"
   ]
  },
  {
   "cell_type": "code",
   "execution_count": 3,
   "id": "2662b350",
   "metadata": {},
   "outputs": [],
   "source": [
    "# Datas de material particulado\n",
    "data_pm10 = data.iloc[:,0:1] \n",
    "data_pm25 = data.iloc[:,1:2]"
   ]
  },
  {
   "cell_type": "code",
   "execution_count": 4,
   "id": "3ede6bf9",
   "metadata": {},
   "outputs": [
    {
     "name": "stdout",
     "output_type": "stream",
     "text": [
      "Numero de de datos Nan en data_pm2.5    685\n",
      "dtype: int64\n",
      "Numero de de datos Nan en data_pm10    1561\n",
      "dtype: int64\n"
     ]
    }
   ],
   "source": [
    "#Validación de Datos: la cantidad de valores faltantes \n",
    "missing_values_pm25 = data_pm25.isnull().sum()\n",
    "print(f'Numero de de datos Nan en data_{missing_values_pm25}')\n",
    "\n",
    "missing_values_pm10 = data_pm10.isnull().sum()\n",
    "print(f'Numero de de datos Nan en data_{missing_values_pm10}')"
   ]
  },
  {
   "cell_type": "code",
   "execution_count": 5,
   "id": "61837da4",
   "metadata": {},
   "outputs": [],
   "source": [
    "# Eliminar filas que contienen valores NaN: Eliminacion de valores faltantes \n",
    "data_pm25 = data_pm25.dropna(axis=0)\n",
    "data_pm10 = data_pm10.dropna(axis=0)"
   ]
  },
  {
   "cell_type": "markdown",
   "id": "9519089b",
   "metadata": {},
   "source": [
    "### Algoritmos con parametro de entrada n_neighbors\n"
   ]
  },
  {
   "cell_type": "code",
   "execution_count": 9,
   "id": "a0a49ae4",
   "metadata": {},
   "outputs": [],
   "source": [
    "#se cargan los modelos \n",
    "from pyod.models.iforest import IForest\n",
    "from pyod.models.inne import INNE\n",
    "# n_neighbors \n",
    "from pyod.models.knn import KNN\n",
    "from pyod.models.abod import ABOD\n",
    "from pyod.models.lof import LOF\n",
    "from pyod.models.cof import COF\n"
   ]
  },
  {
   "cell_type": "markdown",
   "id": "a640e895",
   "metadata": {},
   "source": [
    "El criterio de decisión para estos algoritmos implica determinar el valor de `n_neighbors` en el momento en que se produce un cambio sustancial en la inercia. En este contexto, la inercia se define como la trayectoria que forman los puntajes de decisión (`decision_scores_`), ya sean máximos o mínimos, mientras se iteran a través de un rango de valores posibles de `n_neighbors`."
   ]
  },
  {
   "cell_type": "code",
   "execution_count": 10,
   "id": "9505b42a",
   "metadata": {},
   "outputs": [],
   "source": [
    "#Invercia\n",
    "def calcular_inercias(modelos, data, parametro_variar,a,b):\n",
    "    inercias = []\n",
    "    for modelo in modelos:\n",
    "        score_max = []\n",
    "        for i in range(a,b):\n",
    "            dec = modelo(**{parametro_variar: i})  # Usar diccionario para pasar el parámetro\n",
    "            dec.fit(data)\n",
    "            score_max.append(dec.decision_scores_.max())\n",
    "        \n",
    "        inercias.append(score_max)\n",
    "    return inercias"
   ]
  },
  {
   "cell_type": "code",
   "execution_count": 11,
   "id": "e37810cf",
   "metadata": {},
   "outputs": [
    {
     "name": "stderr",
     "output_type": "stream",
     "text": [
      "c:\\Users\\YERIMIGAMBOA\\.conda\\envs\\trabajo\\lib\\site-packages\\pyod\\models\\cof.py:209: RuntimeWarning: invalid value encountered in double_scalars\n",
      "  cof_.append((ac_dist[_g] * self.n_neighbors_) /\n"
     ]
    }
   ],
   "source": [
    "inercia_ne_pm25 = calcular_inercias([IForest,INNE], data_pm25, 'n_estimators', 10, 100)\n",
    "inercia_nn_pm25 = calcular_inercias([KNN, LOF, COF], data_pm10, 'n_neighbors', 10, 100)\n"
   ]
  },
  {
   "cell_type": "code",
   "execution_count": 1,
   "id": "dd164730",
   "metadata": {},
   "outputs": [
    {
     "ename": "NameError",
     "evalue": "name 'plt' is not defined",
     "output_type": "error",
     "traceback": [
      "\u001b[1;31m---------------------------------------------------------------------------\u001b[0m",
      "\u001b[1;31mNameError\u001b[0m                                 Traceback (most recent call last)",
      "\u001b[1;32m~\\AppData\\Local\\Temp\\ipykernel_13164\\63081646.py\u001b[0m in \u001b[0;36m<module>\u001b[1;34m\u001b[0m\n\u001b[0;32m      1\u001b[0m \u001b[1;31m# Crear la figura de inercias\u001b[0m\u001b[1;33m\u001b[0m\u001b[1;33m\u001b[0m\u001b[0m\n\u001b[1;32m----> 2\u001b[1;33m \u001b[0mfig\u001b[0m\u001b[1;33m,\u001b[0m \u001b[0maxs\u001b[0m \u001b[1;33m=\u001b[0m \u001b[0mplt\u001b[0m\u001b[1;33m.\u001b[0m\u001b[0msubplots\u001b[0m\u001b[1;33m(\u001b[0m\u001b[1;36m1\u001b[0m\u001b[1;33m,\u001b[0m \u001b[1;36m4\u001b[0m\u001b[1;33m,\u001b[0m \u001b[0mfigsize\u001b[0m\u001b[1;33m=\u001b[0m\u001b[1;33m(\u001b[0m\u001b[1;36m20\u001b[0m\u001b[1;33m,\u001b[0m \u001b[1;36m5\u001b[0m\u001b[1;33m)\u001b[0m\u001b[1;33m)\u001b[0m\u001b[1;33m\u001b[0m\u001b[1;33m\u001b[0m\u001b[0m\n\u001b[0m\u001b[0;32m      3\u001b[0m \u001b[1;33m\u001b[0m\u001b[0m\n\u001b[0;32m      4\u001b[0m \u001b[0maxs\u001b[0m\u001b[1;33m[\u001b[0m\u001b[1;36m0\u001b[0m\u001b[1;33m]\u001b[0m\u001b[1;33m.\u001b[0m\u001b[0mplot\u001b[0m\u001b[1;33m(\u001b[0m\u001b[0mnp\u001b[0m\u001b[1;33m.\u001b[0m\u001b[0marange\u001b[0m\u001b[1;33m(\u001b[0m\u001b[1;36m10\u001b[0m\u001b[1;33m,\u001b[0m \u001b[1;36m100\u001b[0m\u001b[1;33m,\u001b[0m \u001b[1;36m1\u001b[0m\u001b[1;33m)\u001b[0m\u001b[1;33m,\u001b[0m \u001b[0minercia_ne_pm25\u001b[0m\u001b[1;33m[\u001b[0m\u001b[1;36m0\u001b[0m\u001b[1;33m]\u001b[0m\u001b[1;33m[\u001b[0m\u001b[1;36m0\u001b[0m\u001b[1;33m]\u001b[0m\u001b[1;33m)\u001b[0m\u001b[1;33m\u001b[0m\u001b[1;33m\u001b[0m\u001b[0m\n\u001b[0;32m      5\u001b[0m \u001b[0maxs\u001b[0m\u001b[1;33m[\u001b[0m\u001b[1;36m0\u001b[0m\u001b[1;33m]\u001b[0m\u001b[1;33m.\u001b[0m\u001b[0mset_title\u001b[0m\u001b[1;33m(\u001b[0m\u001b[1;34m'Inercia en IForest para PM2.5'\u001b[0m\u001b[1;33m)\u001b[0m\u001b[1;33m\u001b[0m\u001b[1;33m\u001b[0m\u001b[0m\n",
      "\u001b[1;31mNameError\u001b[0m: name 'plt' is not defined"
     ]
    }
   ],
   "source": [
    "\n",
    "# Crear la figura de inercias\n",
    "fig, axs = plt.subplots(1, 4, figsize=(20, 5))\n",
    "\n",
    "axs[0].plot(np.arange(10, 100, 1), inercia_ne_pm25[0][0])\n",
    "axs[0].set_title('Inercia en IForest para PM2.5')\n",
    "axs[0].set_xlabel('n_estimators')\n",
    "axs[0].set_ylabel('Inercia')\n",
    "\n",
    "axs[1].plot(np.arange(10, 100, 1), inercia_ne_pm25[1][0])\n",
    "axs[1].set_title('Inercia en INNE para PM2.5')\n",
    "axs[1].set_xlabel('n_estimators')\n",
    "axs[1].set_ylabel('Inercia')\n",
    "\n",
    "axs[2].plot(np.arange(10, 100, 1), inercia_nn_pm25[0][0])\n",
    "axs[2].set_title('Inercia en KNN para PM2.5')\n",
    "axs[2].set_xlabel('n_neighbors')\n",
    "axs[2].set_ylabel('Inercia')\n",
    "\n",
    "axs[3].plot(np.arange(10, 100, 1),  inercia_nn_pm25[1][0])\n",
    "axs[3].set_title('Inercia en LOF para PM2.5')\n",
    "axs[3].set_xlabel('n_neighbors')\n",
    "axs[3].set_ylabel('Inercia')\n",
    "\n",
    "# Ajustar los espacios entre subplots\n",
    "plt.tight_layout()\n",
    "\n",
    "# Mostrar la figura\n",
    "plt.show()"
   ]
  },
  {
   "cell_type": "code",
   "execution_count": 90,
   "id": "5e346320",
   "metadata": {},
   "outputs": [
    {
     "data": {
      "text/plain": [
       "GMM(contamination=0.1, covariance_type='full', init_params='kmeans',\n",
       "  max_iter=100, means_init=None, n_components=55, n_init=1,\n",
       "  precisions_init=None, random_state=None, reg_covar=1e-06, tol=0.001,\n",
       "  warm_start=False, weights_init=None)"
      ]
     },
     "execution_count": 90,
     "metadata": {},
     "output_type": "execute_result"
    }
   ],
   "source": [
    "detector_1 = IForest(n_estimators=50)\n",
    "detector_1.fit(data_pm25)\n",
    "detector_2 = INNE(n_estimators=35)\n",
    "detector_2.fit(data_pm25)\n",
    "detector_3 = KNN(n_neighbors=43)\n",
    "detector_3.fit(data_pm25)\n",
    "detector_4 = GMM(n_components=55)\n",
    "detector_4.fit(data_pm25)"
   ]
  },
  {
   "cell_type": "code",
   "execution_count": 91,
   "id": "d58c081f",
   "metadata": {},
   "outputs": [],
   "source": [
    "def detect_and_select_outliers(detector, data):\n",
    "    \"\"\"\n",
    "    Detecta valores atípicos/anomalías utilizando un detector y selecciona los datos atípicos del DataFrame.\n",
    "    \n",
    "    Args:\n",
    "        detector: Objeto de detección de anomalías (por ejemplo, un modelo entrenado).\n",
    "        data: DataFrame que contiene los datos a analizar.\n",
    "        \n",
    "    Returns:\n",
    "        data_outliers: DataFrame que contiene solo los valores atípicos/anomalías del DataFrame original.\n",
    "    \"\"\"\n",
    "    previsiones = detector.labels_\n",
    "    outliers_indices = [i for i, label in enumerate(previsiones) if label == 1]\n",
    "    data_outliers = data.iloc[outliers_indices, :]\n",
    "    return data_outliers"
   ]
  },
  {
   "cell_type": "code",
   "execution_count": 92,
   "id": "cb714f52",
   "metadata": {},
   "outputs": [],
   "source": [
    "data_outliers_IForest = detect_and_select_outliers(detector_1, data_pm25)\n",
    "data_outliers_INNE = detect_and_select_outliers(detector_2, data_pm25)\n",
    "data_outliers_KNN = detect_and_select_outliers(detector_3, data_pm25)\n",
    "data_outliers_GMM = detect_and_select_outliers(detector_4, data_pm25)"
   ]
  },
  {
   "cell_type": "code",
   "execution_count": 93,
   "id": "6312b1e6",
   "metadata": {},
   "outputs": [
    {
     "data": {
      "text/plain": [
       "array([0, 1, 1, ..., 0, 0, 0])"
      ]
     },
     "execution_count": 93,
     "metadata": {},
     "output_type": "execute_result"
    }
   ],
   "source": [
    "#Se muestra las previsiones de valores inliers y outliers.\n",
    "#Las etiquetas binarias de los datos de entrenamiento. 0 significa inliers y 1 para valores atípicos/anomalías.\n",
    "previsiones_1 = detector_1.labels_\n",
    "previsiones_1"
   ]
  },
  {
   "cell_type": "code",
   "execution_count": 94,
   "id": "6e249001",
   "metadata": {},
   "outputs": [
    {
     "name": "stdout",
     "output_type": "stream",
     "text": [
      "(array([0, 1]), array([18016,  1891], dtype=int64))\n",
      "(array([0, 1]), array([18036,  1871], dtype=int64))\n",
      "(array([0, 1]), array([18127,  1780], dtype=int64))\n",
      "(array([0, 1]), array([17924,  1983], dtype=int64))\n"
     ]
    }
   ],
   "source": [
    "#Se muestra de la cantidad total de datos, la cantidad de valores no outliers y la cantidad de posibles outliers.\n",
    "print(np.unique(detector_1.labels_, return_counts = True))\n",
    "print(np.unique(detector_2.labels_, return_counts = True))\n",
    "print(np.unique(detector_3.labels_, return_counts = True))\n",
    "print(np.unique(detector_4.labels_, return_counts = True))"
   ]
  },
  {
   "cell_type": "code",
   "execution_count": 97,
   "id": "efb55554",
   "metadata": {},
   "outputs": [
    {
     "data": {
      "image/png": "[encoded data removed]",
      "text/plain": [
       "<Figure size 1800x1200 with 1 Axes>"
      ]
     },
     "metadata": {},
     "output_type": "display_data"
    }
   ],
   "source": [
    "plt.figure(figsize=(18,12))\n",
    "plt.subplot(211)\n",
    "#data_2.I_b.plot()\n",
    "plt.plot(data_outliers_IForest, 'o', label = 'IForest')\n",
    "plt.plot(data_outliers_INNE, 'o', label = 'INNE')\n",
    "#plt.plot(data_outliers_KNN, 'o', label = 'KNN')\n",
    "#plt.plot(data_outliers_GMM, 'o', label = 'GMM')\n",
    "plt.plot(data_pm25,'o', markersize=2, label = 'Original Serie')\n",
    "plt.legend()\n",
    "plt.xlim(pd.Timestamp('2021-01-09 04:00:00'), pd.Timestamp('2021-02-09 04:00:00'))\n",
    "#plt.ylim(0,75)\n",
    "plt.show()"
   ]
  },
  {
   "cell_type": "code",
   "execution_count": 41,
   "id": "0b238897",
   "metadata": {},
   "outputs": [],
   "source": [
    "#analisis de deteccion de fraude"
   ]
  },
  {
   "cell_type": "code",
   "execution_count": 46,
   "id": "c3206ca8",
   "metadata": {},
   "outputs": [
    {
     "name": "stderr",
     "output_type": "stream",
     "text": [
      "C:\\Users\\YERIMIGAMBOA\\AppData\\Local\\Temp\\ipykernel_8360\\3061070888.py:6: DeprecationWarning: elementwise comparison failed; this will raise an error in the future.\n",
      "  indices_iguales = np.where(valores_df1 == valores_df2)[0]\n"
     ]
    }
   ],
   "source": [
    "# Obtenemos los valores de la columna en cada DataFrame\n",
    "valores_df1 = data_outliers['pm10'].values\n",
    "valores_df2 = data_outliers_2['pm10'].values\n",
    "\n",
    "# Encontramos los índices donde los valores son iguales\n",
    "indices_iguales = np.where(valores_df1 == valores_df2)[0]"
   ]
  }
 ],
 "metadata": {
  "kernelspec": {
   "display_name": "Python 3 (ipykernel)",
   "language": "python",
   "name": "python3"
  },
  "language_info": {
   "codemirror_mode": {
    "name": "ipython",
    "version": 3
   },
   "file_extension": ".py",
   "mimetype": "text/x-python",
   "name": "python",
   "nbconvert_exporter": "python",
   "pygments_lexer": "ipython3",
   "version": "3.9.16"
  }
 },
 "nbformat": 4,
 "nbformat_minor": 5
}
